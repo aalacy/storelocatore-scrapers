{
 "cells": [
  {
   "cell_type": "code",
   "execution_count": 2,
   "metadata": {},
   "outputs": [],
   "source": [
    "import re\n",
    "import json\n",
    "from bs4 import BeautifulSoup as bs\n",
    "from selenium.webdriver.common.by import By\n",
    "from selenium.webdriver.support.ui import WebDriverWait\n",
    "from selenium.webdriver.support import expected_conditions as EC\n",
    "from sgselenium.sgselenium import SgChrome\n",
    "from webdriver_manager.chrome import ChromeDriverManager\n",
    "import ssl"
   ]
  },
  {
   "cell_type": "code",
   "execution_count": 3,
   "metadata": {},
   "outputs": [],
   "source": [
    "headers = {\n",
    "    \"User-Agent\": \"Mozilla/5.0 (iPhone; CPU iPhone OS 12_0 like Mac OS X) AppleWebKit/604.1.38 (KHTML, like Gecko) Version/12.0 Mobile/15A372 Safari/604.1\",\n",
    "}\n",
    "\n",
    "\n",
    "locator_domain = \"https://www.auchan-retail.com/en/\"\n",
    "base_url = \"https://www.auchan-retail.com/en/location/\""
   ]
  },
  {
   "cell_type": "code",
   "execution_count": 4,
   "metadata": {},
   "outputs": [],
   "source": [
    "def get_driver(url, class_name, driver=None):\n",
    "    if driver is not None:\n",
    "        driver.quit()\n",
    "\n",
    "    user_agent = (\n",
    "        \"Mozilla/5.0 (X11; Ubuntu; Linux x86_64; rv:78.0) Gecko/20100101 Firefox/78.0\"\n",
    "    )\n",
    "    x = 0\n",
    "    while True:\n",
    "        x = x + 1\n",
    "        try:\n",
    "            driver = SgChrome(\n",
    "                executable_path=ChromeDriverManager().install(),\n",
    "                user_agent=user_agent,\n",
    "                is_headless=True,\n",
    "            ).driver()\n",
    "            driver.get(url)\n",
    "\n",
    "            WebDriverWait(driver, 20).until(\n",
    "                EC.presence_of_element_located((By.CLASS_NAME, class_name))\n",
    "            )\n",
    "            break\n",
    "        except Exception:\n",
    "            driver.quit()\n",
    "            if x == 10:\n",
    "                raise Exception(\n",
    "                    \"Make sure this ran with a Proxy, will fail without one\"\n",
    "                )\n",
    "            continue\n",
    "    return driver"
   ]
  },
  {
   "cell_type": "code",
   "execution_count": 5,
   "metadata": {},
   "outputs": [
    {
     "name": "stderr",
     "output_type": "stream",
     "text": [
      "\n",
      "\n",
      "====== WebDriver manager ======\n",
      "Current google-chrome version is 96.0.4664\n",
      "Get LATEST driver version for 96.0.4664\n",
      "Get LATEST driver version for 96.0.4664\n",
      "Trying to download new driver from https://chromedriver.storage.googleapis.com/96.0.4664.45/chromedriver_win32.zip\n",
      "Driver has been saved in cache [C:\\Users\\Henry Randall\\.wdm\\drivers\\chromedriver\\win32\\96.0.4664.45]\n"
     ]
    }
   ],
   "source": [
    "links=[]\n",
    "class_name = \"site-content\"\n",
    "url = \"https://www.auchan-retail.com/en/location/\"\n",
    "driver = get_driver(url, class_name)\n",
    "soup = bs(driver.page_source, \"html.parser\")\n",
    "articles = soup.find_all(\"article\")"
   ]
  },
  {
   "cell_type": "code",
   "execution_count": 6,
   "metadata": {},
   "outputs": [
    {
     "name": "stdout",
     "output_type": "stream",
     "text": [
      " 40 avenue de Flandre - 59964 Croix\n",
      " Calle Santiago de Compostela - 28029 MADRID\n",
      " 200 rue de la Recherche – 59650 Villeneuve-d’Ascq\n",
      " Auchan Magyarország Kft. - Sport u. 2-4 - 2040 BUDAÖRS\n",
      " Rue Alphonse Weicker 5 - L-2721 Luxembourg\n",
      "\n",
      " ul. Puławska 46 - 05–500 Piaseczno\n",
      " Estrada de Paço de Arcos nº 48, 2770-129 Paço de Arcos, Portugal\n",
      " Str. Braşov nr. 25, Sector 6 - 061444, Bucureşti\n",
      " 3A, Rue Verkhniaya Krasnoselskaya - 107140 MOSCOU\n",
      " Route de l’aéroport - 4720 DAKAR\n",
      " Xinhu 1st Rd., Neihu District - 114 TAIPEI CITY\n",
      " Avenue Moskovskiy 15A - 04073 KIEV\n"
     ]
    }
   ],
   "source": [
    "for article in articles:\n",
    "    loc_name = article.find(\"a\").text\n",
    "    loc_url = article.find(\"a\")['href']\n",
    "    address = article.find(\"h6\")\n",
    "    if address is None:\n",
    "        address = ''\n",
    "    else:\n",
    "        address = address.text\n",
    "        \n",
    "    print(address)"
   ]
  },
  {
   "cell_type": "code",
   "execution_count": 33,
   "metadata": {},
   "outputs": [
    {
     "data": {
      "text/plain": [
       "[<article class=\"card h-100 has-white-background-color entry-content m-2 shadow-sm\" id=\"post-128\"><div class=\"card-body location\"><h5 class=\"card-title\"><a href=\"https://www.auchan-retail.com/en/location/auchan-retail-head-office/\" rel=\"bookmark\">Auchan Retail – Head office</a></h5><h6 class=\"card-subtitle\"> 40 avenue de Flandre - 59964 Croix</h6><div class=\"card-text\"></div></div><div class=\"card-footer\"><div class=\"wp-block-button is-style-squared\"> <a class=\"wp-block-button__link has-background has-primary-outline-color card-btn\" href=\"https://www.auchan-retail.com/en/location/auchan-retail-head-office/\">View</a></div></div></article>,\n",
       " <article class=\"card h-100 has-white-background-color entry-content m-2 shadow-sm\" id=\"post-133\"><div class=\"card-body location\"><h5 class=\"card-title\"><a href=\"https://www.auchan-retail.com/en/location/auchan-retail-spain/\" rel=\"bookmark\">Auchan Retail – Spain</a></h5><h6 class=\"card-subtitle\"> Calle Santiago de Compostela - 28029 MADRID</h6><div class=\"card-text\"></div></div><div class=\"card-footer\"><div class=\"wp-block-button is-style-squared\"> <a class=\"wp-block-button__link has-background has-primary-outline-color card-btn\" href=\"https://www.auchan-retail.com/en/location/auchan-retail-spain/\">View</a></div></div></article>,\n",
       " <article class=\"card h-100 has-white-background-color entry-content m-2 shadow-sm\" id=\"post-130\"><div class=\"card-body location\"><h5 class=\"card-title\"><a href=\"https://www.auchan-retail.com/en/location/auchan-retail-france-2/\" rel=\"bookmark\">Auchan Retail – France</a></h5><h6 class=\"card-subtitle\"> 200 rue de la Recherche – 59650 Villeneuve-d’Ascq</h6><div class=\"card-text\"></div></div><div class=\"card-footer\"><div class=\"wp-block-button is-style-squared\"> <a class=\"wp-block-button__link has-background has-primary-outline-color card-btn\" href=\"https://www.auchan-retail.com/en/location/auchan-retail-france-2/\">View</a></div></div></article>,\n",
       " <article class=\"card h-100 has-white-background-color entry-content m-2 shadow-sm\" id=\"post-124\"><div class=\"card-body location\"><h5 class=\"card-title\"><a href=\"https://www.auchan-retail.com/en/location/auchan-retail-hungary/\" rel=\"bookmark\">Auchan Retail – Hungary</a></h5><h6 class=\"card-subtitle\"> Auchan Magyarország Kft. - Sport u. 2-4 - 2040 BUDAÖRS</h6><div class=\"card-text\"></div></div><div class=\"card-footer\"><div class=\"wp-block-button is-style-squared\"> <a class=\"wp-block-button__link has-background has-primary-outline-color card-btn\" href=\"https://www.auchan-retail.com/en/location/auchan-retail-hungary/\">View</a></div></div></article>,\n",
       " <article class=\"card h-100 has-white-background-color entry-content m-2 shadow-sm\" id=\"post-94\"><div class=\"card-body location\"><h5 class=\"card-title\"><a href=\"https://www.auchan-retail.com/en/location/auchan-retail-luxembourg-2/\" rel=\"bookmark\">Auchan Retail – Luxembourg</a></h5><h6 class=\"card-subtitle\"> Rue Alphonse Weicker 5 - L-2721 Luxembourg</h6><div class=\"card-text\"></div></div><div class=\"card-footer\"><div class=\"wp-block-button is-style-squared\"> <a class=\"wp-block-button__link has-background has-primary-outline-color card-btn\" href=\"https://www.auchan-retail.com/en/location/auchan-retail-luxembourg-2/\">View</a></div></div></article>,\n",
       " <article class=\"card h-100 has-white-background-color entry-content m-2 shadow-sm\" id=\"post-3268\"><div class=\"card-body location\"><h5 class=\"card-title\"><a href=\"https://www.auchan-retail.com/en/location/mauritanie-tadjikistan-tunisie-2/\" rel=\"bookmark\">Mauritania, Tadjikistan, Tunisia</a></h5><div class=\"card-text\"></div></div><div class=\"card-footer\"><div class=\"wp-block-button is-style-squared\"> <a class=\"wp-block-button__link has-background has-primary-outline-color card-btn\" href=\"https://www.auchan-retail.com/en/location/mauritanie-tadjikistan-tunisie-2/\">View</a></div></div></article>,\n",
       " <article class=\"card h-100 has-white-background-color entry-content m-2 shadow-sm\" id=\"post-106\"><div class=\"card-body location\"><h5 class=\"card-title\"><a href=\"https://www.auchan-retail.com/en/location/auchan-retail-poland/\" rel=\"bookmark\">Auchan Retail – Poland</a></h5><h6 class=\"card-subtitle\"> ul. Puławska 46 - 05–500 Piaseczno</h6><div class=\"card-text\"></div></div><div class=\"card-footer\"><div class=\"wp-block-button is-style-squared\"> <a class=\"wp-block-button__link has-background has-primary-outline-color card-btn\" href=\"https://www.auchan-retail.com/en/location/auchan-retail-poland/\">View</a></div></div></article>,\n",
       " <article class=\"card h-100 has-white-background-color entry-content m-2 shadow-sm\" id=\"post-136\"><div class=\"card-body location\"><h5 class=\"card-title\"><a href=\"https://www.auchan-retail.com/en/location/auchan-retail-portugal-2/\" rel=\"bookmark\">Auchan Retail – Portugal</a></h5><h6 class=\"card-subtitle\"> Estrada de Paço de Arcos nº 48, 2770-129 Paço de Arcos, Portugal</h6><div class=\"card-link\"> <a href=\"http://www.auchan.pt\" target=\"_blank\" title=\"Auchan Retail – Portugal\">http://www.auchan.pt</a></div><div class=\"card-text\"></div></div><div class=\"card-footer\"><div class=\"wp-block-button is-style-squared\"> <a class=\"wp-block-button__link has-background has-primary-outline-color card-btn\" href=\"https://www.auchan-retail.com/en/location/auchan-retail-portugal-2/\">View</a></div></div></article>,\n",
       " <article class=\"card h-100 has-white-background-color entry-content m-2 shadow-sm\" id=\"post-122\"><div class=\"card-body location\"><h5 class=\"card-title\"><a href=\"https://www.auchan-retail.com/en/location/auchan-retail-romania/\" rel=\"bookmark\">Auchan Retail – Romania</a></h5><h6 class=\"card-subtitle\"> Str. Braşov nr. 25, Sector 6 - 061444, Bucureşti</h6><div class=\"card-text\"></div></div><div class=\"card-footer\"><div class=\"wp-block-button is-style-squared\"> <a class=\"wp-block-button__link has-background has-primary-outline-color card-btn\" href=\"https://www.auchan-retail.com/en/location/auchan-retail-romania/\">View</a></div></div></article>,\n",
       " <article class=\"card h-100 has-white-background-color entry-content m-2 shadow-sm\" id=\"post-104\"><div class=\"card-body location\"><h5 class=\"card-title\"><a href=\"https://www.auchan-retail.com/en/location/auchan-retail-russia/\" rel=\"bookmark\">Auchan Retail – Russia</a></h5><h6 class=\"card-subtitle\"> 3A, Rue Verkhniaya Krasnoselskaya - 107140 MOSCOU</h6><div class=\"card-text\"></div></div><div class=\"card-footer\"><div class=\"wp-block-button is-style-squared\"> <a class=\"wp-block-button__link has-background has-primary-outline-color card-btn\" href=\"https://www.auchan-retail.com/en/location/auchan-retail-russia/\">View</a></div></div></article>,\n",
       " <article class=\"card h-100 has-white-background-color entry-content m-2 shadow-sm\" id=\"post-112\"><div class=\"card-body location\"><h5 class=\"card-title\"><a href=\"https://www.auchan-retail.com/en/location/auchan-retail-senegal-2/\" rel=\"bookmark\">Auchan Retail Senegal</a></h5><h6 class=\"card-subtitle\"> Route de l’aéroport - 4720 DAKAR</h6><div class=\"card-text\"></div></div><div class=\"card-footer\"><div class=\"wp-block-button is-style-squared\"> <a class=\"wp-block-button__link has-background has-primary-outline-color card-btn\" href=\"https://www.auchan-retail.com/en/location/auchan-retail-senegal-2/\">View</a></div></div></article>,\n",
       " <article class=\"card h-100 has-white-background-color entry-content m-2 shadow-sm\" id=\"post-108\"><div class=\"card-body location\"><h5 class=\"card-title\"><a href=\"https://www.auchan-retail.com/en/location/auchan-retail-taiwan-2/\" rel=\"bookmark\">Auchan Retail – Taiwan</a></h5><h6 class=\"card-subtitle\"> Xinhu 1st Rd., Neihu District - 114 TAIPEI CITY</h6><div class=\"card-text\"></div></div><div class=\"card-footer\"><div class=\"wp-block-button is-style-squared\"> <a class=\"wp-block-button__link has-background has-primary-outline-color card-btn\" href=\"https://www.auchan-retail.com/en/location/auchan-retail-taiwan-2/\">View</a></div></div></article>,\n",
       " <article class=\"card h-100 has-white-background-color entry-content m-2 shadow-sm\" id=\"post-100\"><div class=\"card-body location\"><h5 class=\"card-title\"><a href=\"https://www.auchan-retail.com/en/location/auchan-retail-ukraine-2/\" rel=\"bookmark\">Auchan Retail Ukraine</a></h5><h6 class=\"card-subtitle\"> Avenue Moskovskiy 15A - 04073 KIEV</h6><div class=\"card-text\"></div></div><div class=\"card-footer\"><div class=\"wp-block-button is-style-squared\"> <a class=\"wp-block-button__link has-background has-primary-outline-color card-btn\" href=\"https://www.auchan-retail.com/en/location/auchan-retail-ukraine-2/\">View</a></div></div></article>]"
      ]
     },
     "execution_count": 33,
     "metadata": {},
     "output_type": "execute_result"
    }
   ],
   "source": [
    "scripts"
   ]
  },
  {
   "cell_type": "code",
   "execution_count": null,
   "metadata": {},
   "outputs": [],
   "source": []
  }
 ],
 "metadata": {
  "kernelspec": {
   "display_name": "Python [conda env:PythonData] *",
   "language": "python",
   "name": "conda-env-PythonData-py"
  },
  "language_info": {
   "codemirror_mode": {
    "name": "ipython",
    "version": 3
   },
   "file_extension": ".py",
   "mimetype": "text/x-python",
   "name": "python",
   "nbconvert_exporter": "python",
   "pygments_lexer": "ipython3",
   "version": "3.7.6"
  }
 },
 "nbformat": 4,
 "nbformat_minor": 4
}
