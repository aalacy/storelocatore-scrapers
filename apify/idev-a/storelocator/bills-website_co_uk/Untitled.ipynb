{
 "cells": [
  {
   "cell_type": "code",
   "execution_count": 1,
   "metadata": {},
   "outputs": [
    {
     "ename": "ModuleNotFoundError",
     "evalue": "No module named 'sgscrape'",
     "output_type": "error",
     "traceback": [
      "\u001b[1;31m---------------------------------------------------------------------------\u001b[0m",
      "\u001b[1;31mModuleNotFoundError\u001b[0m                       Traceback (most recent call last)",
      "\u001b[1;32m<ipython-input-1-fb47283d3c8a>\u001b[0m in \u001b[0;36m<module>\u001b[1;34m\u001b[0m\n\u001b[1;32m----> 1\u001b[1;33m \u001b[1;32mfrom\u001b[0m \u001b[0msgscrape\u001b[0m\u001b[1;33m.\u001b[0m\u001b[0msgwriter\u001b[0m \u001b[1;32mimport\u001b[0m \u001b[0mSgWriter\u001b[0m\u001b[1;33m\u001b[0m\u001b[1;33m\u001b[0m\u001b[0m\n\u001b[0m\u001b[0;32m      2\u001b[0m \u001b[1;32mfrom\u001b[0m \u001b[0msgscrape\u001b[0m\u001b[1;33m.\u001b[0m\u001b[0msgrecord\u001b[0m \u001b[1;32mimport\u001b[0m \u001b[0mSgRecord\u001b[0m\u001b[1;33m\u001b[0m\u001b[1;33m\u001b[0m\u001b[0m\n\u001b[0;32m      3\u001b[0m \u001b[1;32mfrom\u001b[0m \u001b[0msglogging\u001b[0m \u001b[1;32mimport\u001b[0m \u001b[0mSgLogSetup\u001b[0m\u001b[1;33m\u001b[0m\u001b[1;33m\u001b[0m\u001b[0m\n\u001b[0;32m      4\u001b[0m \u001b[1;32mfrom\u001b[0m \u001b[0msgrequests\u001b[0m \u001b[1;32mimport\u001b[0m \u001b[0mSgRequests\u001b[0m\u001b[1;33m\u001b[0m\u001b[1;33m\u001b[0m\u001b[0m\n\u001b[0;32m      5\u001b[0m \u001b[1;32mimport\u001b[0m \u001b[0mjson\u001b[0m\u001b[1;33m\u001b[0m\u001b[1;33m\u001b[0m\u001b[0m\n",
      "\u001b[1;31mModuleNotFoundError\u001b[0m: No module named 'sgscrape'"
     ]
    }
   ],
   "source": [
    "from sgscrape.sgwriter import SgWriter\n",
    "from sgscrape.sgrecord import SgRecord\n",
    "from sglogging import SgLogSetup\n",
    "from sgrequests import SgRequests\n",
    "import json\n",
    "import re\n",
    "from lxml import html, etree\n",
    "from bs4 import BeautifulSoup as bs\n",
    "from sgscrape.sgpostal import parse_address_intl"
   ]
  },
  {
   "cell_type": "code",
   "execution_count": null,
   "metadata": {},
   "outputs": [],
   "source": [
    "logger = SgLogSetup().get_logger(\"bills_website__co___uk\")\n",
    "locator_domain = \"https://bills-website.co.uk\""
   ]
  },
  {
   "cell_type": "code",
   "execution_count": 7,
   "metadata": {},
   "outputs": [],
   "source": [
    "def _valid(val):\n",
    "    return (\n",
    "        val.strip()\n",
    "        .replace(\"–\", \"-\")\n",
    "        .encode(\"unicode-escape\")\n",
    "        .decode(\"utf8\")\n",
    "        .replace(\"\\\\xa0\\\\xa\", \" \")\n",
    "        .replace(\"\\\\xa0\", \" \")\n",
    "        .replace(\"\\\\xa\", \" \")\n",
    "        .replace(\"\\\\xae\", \"\")\n",
    "    )"
   ]
  },
  {
   "cell_type": "code",
   "execution_count": 3,
   "metadata": {},
   "outputs": [],
   "source": [
    "def fetch_data():\n",
    "    with SgRequests() as session:\n",
    "        url_base_restaurants = \"https://bills-website.co.uk/restaurants/\"\n",
    "        r = session.get(url_base_restaurants)\n",
    "        data_raw = html.fromstring(r.text, \"lxml\")\n",
    "        data_raw = data_raw.xpath(\n",
    "            '//main[@class=\"e-site-content relative z-site-content w-full mb-auto\"]'\n",
    "        )\n",
    "        for i in data_raw:\n",
    "            data_raw_clean = etree.tostring(i, pretty_print=True)\n",
    "        data_raw_clean = \"\".join(map(chr, data_raw_clean)).replace(\"\\\\\", \"\")\n",
    "        all_urls_endpoints = re.findall(r\"/restaurants/(.*?)&quot;}\", data_raw_clean)\n",
    "        all_urls = [url_base_restaurants + url for url in all_urls_endpoints]\n",
    "        for page_url in all_urls:\n",
    "            soup = bs(session.get(page_url).text, \"lxml\")\n",
    "            _ = json.loads(\n",
    "                soup.select_one(\"page-builder\")[\":header\"].replace(\"&quot;\", \"\")\n",
    "            )\n",
    "            addr = parse_address_intl(_[\"meta\"][0][\"content\"])\n",
    "            com = json.loads(\n",
    "                soup.select_one(\"page-builder\")[\":components\"]\n",
    "                .replace(\"&quot;\", '\"')\n",
    "                .replace(\"&lt;\", \"<\")\n",
    "                .replace(\"&gt;\", \">\")\n",
    "                .replace(\"&amp;\", \"&\")\n",
    "                .replace(\"&amp;\", \"&\")\n",
    "            )\n",
    "            hours = []\n",
    "            for hour in com[0][\"value\"][\"hours\"][0][\"times\"]:\n",
    "                hours.append(f\"{hour['title']}: {hour['content']}\")\n",
    "            yield SgRecord(\n",
    "                page_url=page_url,\n",
    "                location_name=_[\"title\"],\n",
    "                street_address=addr.street_address_1,\n",
    "                city=addr.city,\n",
    "                zip_postal=addr.postcode,\n",
    "                country_code=\"uk\",\n",
    "                phone=_[\"meta\"][1][\"content\"],\n",
    "                locator_domain=locator_domain,\n",
    "                hours_of_operation=_valid(\"; \".join(hours)),\n",
    "            )"
   ]
  },
  {
   "cell_type": "code",
   "execution_count": null,
   "metadata": {},
   "outputs": [],
   "source": [
    "if __name__ == \"__main__\":\n",
    "    with SgWriter() as writer:\n",
    "        results = fetch_data()\n",
    "        for rec in results:\n",
    "            writer.write_row(rec)"
   ]
  },
  {
   "cell_type": "code",
   "execution_count": 4,
   "metadata": {},
   "outputs": [
    {
     "data": {
      "text/plain": [
       "<generator object fetch_data at 0x00000266C07F29C8>"
      ]
     },
     "execution_count": 4,
     "metadata": {},
     "output_type": "execute_result"
    }
   ],
   "source": [
    "fetch_data()"
   ]
  },
  {
   "cell_type": "code",
   "execution_count": 6,
   "metadata": {},
   "outputs": [
    {
     "ename": "SyntaxError",
     "evalue": "'yield' outside function (<ipython-input-6-265d86da0b2e>, line 30)",
     "output_type": "error",
     "traceback": [
      "\u001b[1;36m  File \u001b[1;32m\"<ipython-input-6-265d86da0b2e>\"\u001b[1;36m, line \u001b[1;32m30\u001b[0m\n\u001b[1;33m    yield SgRecord(\u001b[0m\n\u001b[1;37m    ^\u001b[0m\n\u001b[1;31mSyntaxError\u001b[0m\u001b[1;31m:\u001b[0m 'yield' outside function\n"
     ]
    }
   ],
   "source": [
    "with SgRequests() as session:\n",
    "    url_base_restaurants = \"https://bills-website.co.uk/restaurants/\"\n",
    "    r = session.get(url_base_restaurants)\n",
    "    data_raw = html.fromstring(r.text, \"lxml\")\n",
    "    data_raw = data_raw.xpath(\n",
    "        '//main[@class=\"e-site-content relative z-site-content w-full mb-auto\"]'\n",
    "    )\n",
    "    for i in data_raw:\n",
    "        data_raw_clean = etree.tostring(i, pretty_print=True)\n",
    "    data_raw_clean = \"\".join(map(chr, data_raw_clean)).replace(\"\\\\\", \"\")\n",
    "    all_urls_endpoints = re.findall(r\"/restaurants/(.*?)&quot;}\", data_raw_clean)\n",
    "    all_urls = [url_base_restaurants + url for url in all_urls_endpoints]\n",
    "    for page_url in all_urls:\n",
    "        soup = bs(session.get(page_url).text, \"lxml\")\n",
    "        _ = json.loads(\n",
    "            soup.select_one(\"page-builder\")[\":header\"].replace(\"&quot;\", \"\")\n",
    "        )\n",
    "        addr = parse_address_intl(_[\"meta\"][0][\"content\"])\n",
    "        com = json.loads(\n",
    "            soup.select_one(\"page-builder\")[\":components\"]\n",
    "            .replace(\"&quot;\", '\"')\n",
    "            .replace(\"&lt;\", \"<\")\n",
    "            .replace(\"&gt;\", \">\")\n",
    "            .replace(\"&amp;\", \"&\")\n",
    "            .replace(\"&amp;\", \"&\")\n",
    "        )\n",
    "        hours = []\n",
    "        for hour in com[0][\"value\"][\"hours\"][0][\"times\"]:\n",
    "            hours.append(f\"{hour['title']}: {hour['content']}\")\n",
    "        yield SgRecord(\n",
    "            page_url=page_url,\n",
    "            location_name=_[\"title\"],\n",
    "            street_address=addr.street_address_1,\n",
    "            city=addr.city,\n",
    "            zip_postal=addr.postcode,\n",
    "            country_code=\"uk\",\n",
    "            phone=_[\"meta\"][1][\"content\"],\n",
    "            locator_domain=locator_domain,\n",
    "            hours_of_operation=_valid(\"; \".join(hours)),\n",
    "        )"
   ]
  },
  {
   "cell_type": "code",
   "execution_count": null,
   "metadata": {},
   "outputs": [],
   "source": []
  }
 ],
 "metadata": {
  "kernelspec": {
   "display_name": "Python [conda env:PythonData] *",
   "language": "python",
   "name": "conda-env-PythonData-py"
  },
  "language_info": {
   "codemirror_mode": {
    "name": "ipython",
    "version": 3
   },
   "file_extension": ".py",
   "mimetype": "text/x-python",
   "name": "python",
   "nbconvert_exporter": "python",
   "pygments_lexer": "ipython3",
   "version": "3.7.6"
  }
 },
 "nbformat": 4,
 "nbformat_minor": 4
}
